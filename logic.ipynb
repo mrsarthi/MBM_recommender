{
 "cells": [
  {
   "cell_type": "code",
   "execution_count": 3,
   "id": "1e24a15f",
   "metadata": {},
   "outputs": [],
   "source": [
    "import pandas as pd"
   ]
  },
  {
   "cell_type": "code",
   "execution_count": 13,
   "id": "c9e9be50",
   "metadata": {},
   "outputs": [],
   "source": [
    "moviesData = pd.read_csv('dataset/ratings.csv')\n",
    "topmovies = pd.read_csv('dataset/imdb_top_movies.csv')"
   ]
  },
  {
   "cell_type": "code",
   "execution_count": 14,
   "id": "640a00e3",
   "metadata": {},
   "outputs": [
    {
     "name": "stdout",
     "output_type": "stream",
     "text": [
      "     Rank                Title  Year  Rating Duration  \\\n",
      "245   246  The Grapes of Wrath  1940     8.1    2h 9m   \n",
      "246   247   To Be or Not to Be  1942     8.1   1h 39m   \n",
      "247   248   Gangs of Wasseypur  2012     8.2   5h 21m   \n",
      "248   249             Drishyam  2015     8.2   2h 43m   \n",
      "249   250             The Help  2011     8.1   2h 26m   \n",
      "\n",
      "                                  IMDb URL  \\\n",
      "245  https://www.imdb.com/title/tt0032551/   \n",
      "246  https://www.imdb.com/title/tt0035446/   \n",
      "247  https://www.imdb.com/title/tt1954470/   \n",
      "248  https://www.imdb.com/title/tt4430212/   \n",
      "249  https://www.imdb.com/title/tt1454029/   \n",
      "\n",
      "                                             Image URL  \n",
      "245  https://m.media-amazon.com/images/M/MV5BZDgzZj...  \n",
      "246  https://m.media-amazon.com/images/M/MV5BMTA5OT...  \n",
      "247  https://m.media-amazon.com/images/M/MV5BMTc5Nj...  \n",
      "248  https://m.media-amazon.com/images/M/MV5BM2NmMG...  \n",
      "249  https://m.media-amazon.com/images/M/MV5BMTM5OT...  \n"
     ]
    }
   ],
   "source": [
    "# print(moviesData.head())\n",
    "print(topmovies.tail())"
   ]
  },
  {
   "cell_type": "code",
   "execution_count": 11,
   "id": "afb6f7ea",
   "metadata": {},
   "outputs": [
    {
     "data": {
      "text/html": [
       "<div>\n",
       "<style scoped>\n",
       "    .dataframe tbody tr th:only-of-type {\n",
       "        vertical-align: middle;\n",
       "    }\n",
       "\n",
       "    .dataframe tbody tr th {\n",
       "        vertical-align: top;\n",
       "    }\n",
       "\n",
       "    .dataframe thead th {\n",
       "        text-align: right;\n",
       "    }\n",
       "</style>\n",
       "<table border=\"1\" class=\"dataframe\">\n",
       "  <thead>\n",
       "    <tr style=\"text-align: right;\">\n",
       "      <th></th>\n",
       "      <th>Date</th>\n",
       "      <th>Name</th>\n",
       "      <th>Year</th>\n",
       "      <th>Letterboxd URI</th>\n",
       "      <th>Rating</th>\n",
       "    </tr>\n",
       "  </thead>\n",
       "  <tbody>\n",
       "    <tr>\n",
       "      <th>4</th>\n",
       "      <td>2022-12-09</td>\n",
       "      <td>The Batman</td>\n",
       "      <td>2022.0</td>\n",
       "      <td>https://boxd.it/eDGs</td>\n",
       "      <td>5.0</td>\n",
       "    </tr>\n",
       "    <tr>\n",
       "      <th>7</th>\n",
       "      <td>2025-03-22</td>\n",
       "      <td>Flow</td>\n",
       "      <td>2024.0</td>\n",
       "      <td>https://boxd.it/v1Ei</td>\n",
       "      <td>5.0</td>\n",
       "    </tr>\n",
       "    <tr>\n",
       "      <th>10</th>\n",
       "      <td>2025-03-22</td>\n",
       "      <td>Nosferatu</td>\n",
       "      <td>2024.0</td>\n",
       "      <td>https://boxd.it/f5eG</td>\n",
       "      <td>5.0</td>\n",
       "    </tr>\n",
       "    <tr>\n",
       "      <th>13</th>\n",
       "      <td>2025-03-22</td>\n",
       "      <td>Dune: Part Two</td>\n",
       "      <td>2024.0</td>\n",
       "      <td>https://boxd.it/pUfA</td>\n",
       "      <td>5.0</td>\n",
       "    </tr>\n",
       "    <tr>\n",
       "      <th>383</th>\n",
       "      <td>2025-05-20</td>\n",
       "      <td>Andor: A Disney+ Day Special Look</td>\n",
       "      <td>2022.0</td>\n",
       "      <td>https://boxd.it/CDne</td>\n",
       "      <td>5.0</td>\n",
       "    </tr>\n",
       "    <tr>\n",
       "      <th>447</th>\n",
       "      <td>2025-07-14</td>\n",
       "      <td>John Wick: Chapter 4</td>\n",
       "      <td>2023.0</td>\n",
       "      <td>https://boxd.it/mh48</td>\n",
       "      <td>5.0</td>\n",
       "    </tr>\n",
       "    <tr>\n",
       "      <th>512</th>\n",
       "      <td>2025-08-01</td>\n",
       "      <td>Mahavatar Narsimha</td>\n",
       "      <td>2024.0</td>\n",
       "      <td>https://boxd.it/RdXU</td>\n",
       "      <td>5.0</td>\n",
       "    </tr>\n",
       "    <tr>\n",
       "      <th>526</th>\n",
       "      <td>2025-08-28</td>\n",
       "      <td>Stans</td>\n",
       "      <td>2025.0</td>\n",
       "      <td>https://boxd.it/LlvW</td>\n",
       "      <td>5.0</td>\n",
       "    </tr>\n",
       "  </tbody>\n",
       "</table>\n",
       "</div>"
      ],
      "text/plain": [
       "           Date                               Name    Year  \\\n",
       "4    2022-12-09                         The Batman  2022.0   \n",
       "7    2025-03-22                               Flow  2024.0   \n",
       "10   2025-03-22                          Nosferatu  2024.0   \n",
       "13   2025-03-22                     Dune: Part Two  2024.0   \n",
       "383  2025-05-20  Andor: A Disney+ Day Special Look  2022.0   \n",
       "447  2025-07-14               John Wick: Chapter 4  2023.0   \n",
       "512  2025-08-01                 Mahavatar Narsimha  2024.0   \n",
       "526  2025-08-28                              Stans  2025.0   \n",
       "\n",
       "           Letterboxd URI  Rating  \n",
       "4    https://boxd.it/eDGs     5.0  \n",
       "7    https://boxd.it/v1Ei     5.0  \n",
       "10   https://boxd.it/f5eG     5.0  \n",
       "13   https://boxd.it/pUfA     5.0  \n",
       "383  https://boxd.it/CDne     5.0  \n",
       "447  https://boxd.it/mh48     5.0  \n",
       "512  https://boxd.it/RdXU     5.0  \n",
       "526  https://boxd.it/LlvW     5.0  "
      ]
     },
     "execution_count": 11,
     "metadata": {},
     "output_type": "execute_result"
    }
   ],
   "source": [
    "moviesData[(moviesData['Rating'] == 5.0) & (moviesData['Year'] > 2020.0)]"
   ]
  },
  {
   "cell_type": "code",
   "execution_count": 16,
   "id": "21570559",
   "metadata": {},
   "outputs": [
    {
     "name": "stdout",
     "output_type": "stream",
     "text": [
      "                                                cast  \\\n",
      "0  [{'cast_id': 14, 'character': 'Woody (voice)',...   \n",
      "1  [{'cast_id': 1, 'character': 'Alan Parrish', '...   \n",
      "2  [{'cast_id': 2, 'character': 'Max Goldman', 'c...   \n",
      "3  [{'cast_id': 1, 'character': \"Savannah 'Vannah...   \n",
      "4  [{'cast_id': 1, 'character': 'George Banks', '...   \n",
      "\n",
      "                                                crew     id  \n",
      "0  [{'credit_id': '52fe4284c3a36847f8024f49', 'de...    862  \n",
      "1  [{'credit_id': '52fe44bfc3a36847f80a7cd1', 'de...   8844  \n",
      "2  [{'credit_id': '52fe466a9251416c75077a89', 'de...  15602  \n",
      "3  [{'credit_id': '52fe44779251416c91011acb', 'de...  31357  \n",
      "4  [{'credit_id': '52fe44959251416c75039ed7', 'de...  11862  \n"
     ]
    }
   ],
   "source": [
    "kaggleData = pd.read_csv('dataset/kaggle/credits.csv')\n",
    "print(kaggleData.head())"
   ]
  }
 ],
 "metadata": {
  "kernelspec": {
   "display_name": "base",
   "language": "python",
   "name": "python3"
  },
  "language_info": {
   "codemirror_mode": {
    "name": "ipython",
    "version": 3
   },
   "file_extension": ".py",
   "mimetype": "text/x-python",
   "name": "python",
   "nbconvert_exporter": "python",
   "pygments_lexer": "ipython3",
   "version": "3.12.4"
  }
 },
 "nbformat": 4,
 "nbformat_minor": 5
}
