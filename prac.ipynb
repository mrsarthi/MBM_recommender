{
 "cells": [
  {
   "cell_type": "code",
   "execution_count": 1,
   "id": "1e24a15f",
   "metadata": {},
   "outputs": [],
   "source": [
    "import pandas as pd"
   ]
  },
  {
   "cell_type": "code",
   "execution_count": 2,
   "id": "c9e9be50",
   "metadata": {},
   "outputs": [],
   "source": [
    "moviesData = pd.read_csv('imdb_top_movies.csv')"
   ]
  },
  {
   "cell_type": "code",
   "execution_count": 3,
   "id": "640a00e3",
   "metadata": {},
   "outputs": [
    {
     "name": "stdout",
     "output_type": "stream",
     "text": [
      "     Rank                     Title  Year  Rating Duration  \\\n",
      "0       1  The Shawshank Redemption  1994     9.3   2h 22m   \n",
      "1       2             The Godfather  1972     9.2   2h 55m   \n",
      "2       3           The Dark Knight  2008     9.1   2h 32m   \n",
      "3       4     The Godfather Part II  1974     9.0   3h 22m   \n",
      "4       5              12 Angry Men  1957     9.0   1h 36m   \n",
      "..    ...                       ...   ...     ...      ...   \n",
      "245   246       The Grapes of Wrath  1940     8.1    2h 9m   \n",
      "246   247        To Be or Not to Be  1942     8.1   1h 39m   \n",
      "247   248        Gangs of Wasseypur  2012     8.2   5h 21m   \n",
      "248   249                  Drishyam  2015     8.2   2h 43m   \n",
      "249   250                  The Help  2011     8.1   2h 26m   \n",
      "\n",
      "                                  IMDb URL  \\\n",
      "0    https://www.imdb.com/title/tt0111161/   \n",
      "1    https://www.imdb.com/title/tt0068646/   \n",
      "2    https://www.imdb.com/title/tt0468569/   \n",
      "3    https://www.imdb.com/title/tt0071562/   \n",
      "4    https://www.imdb.com/title/tt0050083/   \n",
      "..                                     ...   \n",
      "245  https://www.imdb.com/title/tt0032551/   \n",
      "246  https://www.imdb.com/title/tt0035446/   \n",
      "247  https://www.imdb.com/title/tt1954470/   \n",
      "248  https://www.imdb.com/title/tt4430212/   \n",
      "249  https://www.imdb.com/title/tt1454029/   \n",
      "\n",
      "                                             Image URL  \n",
      "0    https://m.media-amazon.com/images/M/MV5BMDAyY2...  \n",
      "1    https://m.media-amazon.com/images/M/MV5BNGEwYj...  \n",
      "2    https://m.media-amazon.com/images/M/MV5BMTMxNT...  \n",
      "3    https://m.media-amazon.com/images/M/MV5BMDIxMz...  \n",
      "4    https://m.media-amazon.com/images/M/MV5BYjE4Nz...  \n",
      "..                                                 ...  \n",
      "245  https://m.media-amazon.com/images/M/MV5BZDgzZj...  \n",
      "246  https://m.media-amazon.com/images/M/MV5BMTA5OT...  \n",
      "247  https://m.media-amazon.com/images/M/MV5BMTc5Nj...  \n",
      "248  https://m.media-amazon.com/images/M/MV5BM2NmMG...  \n",
      "249  https://m.media-amazon.com/images/M/MV5BMTM5OT...  \n",
      "\n",
      "[250 rows x 7 columns]\n"
     ]
    }
   ],
   "source": [
    "print(moviesData)"
   ]
  }
 ],
 "metadata": {
  "kernelspec": {
   "display_name": "base",
   "language": "python",
   "name": "python3"
  },
  "language_info": {
   "codemirror_mode": {
    "name": "ipython",
    "version": 3
   },
   "file_extension": ".py",
   "mimetype": "text/x-python",
   "name": "python",
   "nbconvert_exporter": "python",
   "pygments_lexer": "ipython3",
   "version": "3.12.4"
  }
 },
 "nbformat": 4,
 "nbformat_minor": 5
}
